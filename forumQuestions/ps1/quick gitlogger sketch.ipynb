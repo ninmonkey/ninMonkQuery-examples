{
 "cells": [
  {
   "cell_type": "code",
   "execution_count": 2,
   "metadata": {
    "dotnet_interactive": {
     "language": "pwsh"
    },
    "polyglot_notebook": {
     "kernelName": "pwsh"
    }
   },
   "outputs": [
    {
     "name": "stdout",
     "output_type": "stream",
     "text": [
      "\u001b[93mWARNING: The names of some imported commands from the module 'GitLogger.AzureLocalhost.Utils' include unapproved verbs that might make them less discoverable. To find the commands with unapproved verbs, run the Import-Module command again with the Verbose parameter. For a list of approved verbs, type Get-Verb.\u001b[0m\n",
      "\n",
      "\u001b[32;1mModuleType Version PreRelease Name                           ExportedCommands\u001b[0m\n",
      "\u001b[32;1m---------- ------- ---------- ----                           ----------------\u001b[0m\n",
      "Script     0.0.3              GitLogger.AzureLocalhost.Utils {GitLogger.AzureUtil.Find-FuncConfig,…\n",
      "\n"
     ]
    }
   ],
   "source": [
    "$UrlPrefix = 'http://127.0.0.1:7077'\n",
    "# '/Get-GitLogger?Repository=https%3A%2F%2Fgithub.com%2FStartAutomating%2FGitLogger&Metric=CommitCadence&Year=2023&Month=11'\n",
    "$UrlPrefix = 'https://gitloggerfunction.azurewebsites.net'\n",
    "# $Cache ??= @{}\n",
    "\n",
    "# gcm 'glau.*' | ft -auto\n",
    "impo 'GitLogger.AzureLocalhost.Utils' -passThru | ft -auto\n",
    "glau.Nq -UrlRoot $UrlRoot -Cache $Cache | ft -auto\n",
    "\n",
    "\n",
    "$nextUrl =\n",
    "    glau.nq -UrlBase https://gitloggerfunction.azurewebsites.net -Endpoint Get-GitLogger -OwnerName StartAutomating -RepoName Posh -MetricName BusyDayOfWeek\n",
    "\n"
   ]
  }
 ],
 "metadata": {
  "kernelspec": {
   "display_name": ".NET (PowerShell)",
   "language": "PowerShell",
   "name": ".net-pwsh"
  },
  "language_info": {
   "name": "polyglot-notebook"
  },
  "polyglot_notebook": {
   "kernelInfo": {
    "defaultKernelName": "pwsh",
    "items": [
     {
      "aliases": [],
      "languageName": "pwsh",
      "name": "pwsh"
     }
    ]
   }
  }
 },
 "nbformat": 4,
 "nbformat_minor": 2
}
